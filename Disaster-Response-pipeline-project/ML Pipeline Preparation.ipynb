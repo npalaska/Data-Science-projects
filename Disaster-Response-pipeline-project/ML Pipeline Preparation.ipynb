{
 "cells": [
  {
   "cell_type": "markdown",
   "metadata": {},
   "source": [
    "# ML Pipeline Preparation\n",
    "Follow the instructions below to help you create your ML pipeline.\n",
    "### 1. Import libraries and load data from database.\n",
    "- Import Python libraries\n",
    "- Load dataset from database with [`read_sql_table`](https://pandas.pydata.org/pandas-docs/stable/generated/pandas.read_sql_table.html)\n",
    "- Define feature and target variables X and Y"
   ]
  },
  {
   "cell_type": "code",
   "execution_count": 1,
   "metadata": {},
   "outputs": [
    {
     "name": "stdout",
     "output_type": "stream",
     "text": [
      "[nltk_data] Downloading package punkt to /root/nltk_data...\n",
      "[nltk_data]   Unzipping tokenizers/punkt.zip.\n",
      "[nltk_data] Downloading package wordnet to /root/nltk_data...\n",
      "[nltk_data]   Unzipping corpora/wordnet.zip.\n",
      "[nltk_data] Downloading package stopwords to /root/nltk_data...\n",
      "[nltk_data]   Unzipping corpora/stopwords.zip.\n"
     ]
    },
    {
     "data": {
      "text/plain": [
       "True"
      ]
     },
     "execution_count": 1,
     "metadata": {},
     "output_type": "execute_result"
    }
   ],
   "source": [
    "# import libraries\n",
    "import numpy as np\n",
    "import pandas as pd\n",
    "from sqlalchemy import create_engine\n",
    "import nltk\n",
    "nltk.download(['punkt', 'wordnet', 'stopwords'])"
   ]
  },
  {
   "cell_type": "code",
   "execution_count": 3,
   "metadata": {},
   "outputs": [
    {
     "name": "stdout",
     "output_type": "stream",
     "text": [
      "(26207, 35)\n",
      "['related', 'request', 'offer', 'aid_related', 'medical_help', 'medical_products', 'search_and_rescue', 'security', 'military', 'water', 'food', 'shelter', 'clothing', 'money', 'missing_people', 'refugees', 'death', 'other_aid', 'infrastructure_related', 'transport', 'buildings', 'electricity', 'tools', 'hospitals', 'shops', 'aid_centers', 'other_infrastructure', 'weather_related', 'floods', 'storm', 'fire', 'earthquake', 'cold', 'other_weather', 'direct_report']\n"
     ]
    }
   ],
   "source": [
    "# load data from database\n",
    "engine = create_engine('sqlite:///disasterResponse.db')\n",
    "df = pd.read_sql_table('disasterResponseCleaned', engine)\n",
    "X = df.message.values\n",
    "Y = df[df.columns[4:]].values\n",
    "category_names = list(df.columns[4:])\n",
    "print(Y.shape)\n",
    "print(category_names)"
   ]
  },
  {
   "cell_type": "markdown",
   "metadata": {},
   "source": [
    "### 2. Write a tokenization function to process your text data"
   ]
  },
  {
   "cell_type": "code",
   "execution_count": 4,
   "metadata": {},
   "outputs": [],
   "source": [
    "from nltk.tokenize import word_tokenize\n",
    "from nltk.stem import WordNetLemmatizer\n",
    "from nltk.corpus import stopwords\n",
    "import re\n",
    "def tokenize(text):\n",
    "    text = re.sub(r\"[^a-zA-Z0-9]\", \" \", text.lower())\n",
    "    words = word_tokenize(text)\n",
    "    tokens = [w for w in words if w not in stopwords.words(\"english\")]\n",
    "    lemmatizer = WordNetLemmatizer()\n",
    "    clean_tokens = []\n",
    "    for tok in tokens:\n",
    "        clean_tok = lemmatizer.lemmatize(tok).lower().strip()\n",
    "        clean_tokens.append(clean_tok)\n",
    "    return clean_tokens"
   ]
  },
  {
   "cell_type": "markdown",
   "metadata": {},
   "source": [
    "### 3. Build a machine learning pipeline\n",
    "This machine pipeline should take in the `message` column as input and output classification results on the other 36 categories in the dataset. You may find the [MultiOutputClassifier](http://scikit-learn.org/stable/modules/generated/sklearn.multioutput.MultiOutputClassifier.html) helpful for predicting multiple target variables."
   ]
  },
  {
   "cell_type": "code",
   "execution_count": 5,
   "metadata": {},
   "outputs": [],
   "source": [
    "from sklearn.pipeline import Pipeline\n",
    "from sklearn.model_selection import train_test_split, GridSearchCV\n",
    "from sklearn.feature_extraction.text import CountVectorizer, TfidfTransformer, TfidfVectorizer\n",
    "from sklearn.ensemble import RandomForestClassifier\n",
    "from sklearn.multioutput import MultiOutputClassifier\n",
    "from sklearn.multiclass import OneVsRestClassifier\n",
    "from sklearn.svm import LinearSVC, SVC\n",
    "from sklearn.linear_model import LogisticRegression, SGDClassifier\n",
    "pipeline = Pipeline([\n",
    "    ('vect', CountVectorizer(tokenizer=tokenize)),\n",
    "    ('tfidf', TfidfTransformer()),\n",
    "    ('clf', MultiOutputClassifier(LinearSVC()))\n",
    "])\n",
    "\n",
    "#cv = GridSearchCV(pipeline, param_grid=parameters, scoring='precision_samples', cv = 3)"
   ]
  },
  {
   "cell_type": "markdown",
   "metadata": {},
   "source": [
    "### 4. Train pipeline\n",
    "- Split data into train and test sets\n",
    "- Train pipeline"
   ]
  },
  {
   "cell_type": "code",
   "execution_count": 6,
   "metadata": {},
   "outputs": [],
   "source": [
    "X_train,X_test,y_train,y_test=train_test_split(X,Y,test_size=0.3)\n",
    "y_test\n",
    "pipeline.fit(X_train,y_train)\n",
    "y_pred=pipeline.predict(X_test)"
   ]
  },
  {
   "cell_type": "markdown",
   "metadata": {},
   "source": [
    "### 5. Test your model\n",
    "Report the f1 score, precision and recall for each output category of the dataset. You can do this by iterating through the columns and calling sklearn's `classification_report` on each."
   ]
  },
  {
   "cell_type": "code",
   "execution_count": 7,
   "metadata": {},
   "outputs": [
    {
     "name": "stdout",
     "output_type": "stream",
     "text": [
      "(7863, 35)\n",
      "(7863, 35)\n",
      "                  related accuracy : 0.99\n",
      "                  request accuracy : 0.89\n",
      "                    offer accuracy : 0.99\n",
      "              aid_related accuracy : 0.77\n",
      "             medical_help accuracy : 0.93\n",
      "         medical_products accuracy : 0.96\n",
      "        search_and_rescue accuracy : 0.98\n",
      "                 security accuracy : 0.98\n",
      "                 military accuracy : 0.97\n",
      "                    water accuracy : 0.96\n",
      "                     food accuracy : 0.94\n",
      "                  shelter accuracy : 0.94\n",
      "                 clothing accuracy : 0.99\n",
      "                    money accuracy : 0.98\n",
      "           missing_people accuracy : 0.99\n",
      "                 refugees accuracy : 0.97\n",
      "                    death accuracy : 0.97\n",
      "                other_aid accuracy : 0.87\n",
      "   infrastructure_related accuracy : 0.93\n",
      "                transport accuracy : 0.96\n",
      "                buildings accuracy : 0.95\n",
      "              electricity accuracy : 0.98\n",
      "                    tools accuracy : 0.99\n",
      "                hospitals accuracy : 0.99\n",
      "                    shops accuracy : 1.00\n",
      "              aid_centers accuracy : 0.99\n",
      "     other_infrastructure accuracy : 0.95\n",
      "          weather_related accuracy : 0.87\n",
      "                   floods accuracy : 0.95\n",
      "                    storm accuracy : 0.94\n",
      "                     fire accuracy : 0.99\n",
      "               earthquake accuracy : 0.97\n",
      "                     cold accuracy : 0.98\n",
      "            other_weather accuracy : 0.95\n",
      "            direct_report accuracy : 0.85\n",
      "                        precision    recall  f1-score   support\n",
      "\n",
      "               related       0.75      0.13      0.23        67\n",
      "               request       0.74      0.57      0.65      1327\n",
      "                 offer       0.00      0.00      0.00        39\n",
      "           aid_related       0.73      0.69      0.71      3268\n",
      "          medical_help       0.61      0.28      0.38       654\n",
      "      medical_products       0.73      0.30      0.43       418\n",
      "     search_and_rescue       0.65      0.15      0.24       209\n",
      "              security       0.30      0.02      0.04       145\n",
      "              military       0.65      0.30      0.41       265\n",
      "                 water       0.76      0.63      0.69       508\n",
      "                  food       0.80      0.66      0.72       875\n",
      "               shelter       0.75      0.54      0.63       683\n",
      "              clothing       0.70      0.40      0.51       120\n",
      "                 money       0.65      0.22      0.33       184\n",
      "        missing_people       0.68      0.16      0.27        91\n",
      "              refugees       0.63      0.21      0.31       272\n",
      "                 death       0.72      0.48      0.57       357\n",
      "             other_aid       0.52      0.22      0.31      1040\n",
      "infrastructure_related       0.39      0.10      0.16       512\n",
      "             transport       0.68      0.21      0.32       377\n",
      "             buildings       0.65      0.31      0.42       418\n",
      "           electricity       0.61      0.20      0.30       155\n",
      "                 tools       0.33      0.02      0.04        54\n",
      "             hospitals       0.44      0.05      0.09        85\n",
      "                 shops       0.00      0.00      0.00        37\n",
      "           aid_centers       0.25      0.01      0.02        83\n",
      "  other_infrastructure       0.40      0.06      0.11       359\n",
      "       weather_related       0.82      0.69      0.75      2246\n",
      "                floods       0.85      0.54      0.66       644\n",
      "                 storm       0.72      0.58      0.64       730\n",
      "                  fire       0.66      0.20      0.31        94\n",
      "            earthquake       0.90      0.73      0.80       761\n",
      "                  cold       0.67      0.36      0.47       161\n",
      "         other_weather       0.53      0.13      0.21       425\n",
      "         direct_report       0.66      0.48      0.56      1553\n",
      "\n",
      "           avg / total       0.70      0.49      0.56     19216\n",
      "\n",
      "{'vect': CountVectorizer(analyzer='word', binary=False, decode_error='strict',\n",
      "        dtype=<class 'numpy.int64'>, encoding='utf-8', input='content',\n",
      "        lowercase=True, max_df=1.0, max_features=None, min_df=1,\n",
      "        ngram_range=(1, 1), preprocessor=None, stop_words=None,\n",
      "        strip_accents=None, token_pattern='(?u)\\\\b\\\\w\\\\w+\\\\b',\n",
      "        tokenizer=<function tokenize at 0x7f3f7e332598>, vocabulary=None), 'tfidf': TfidfTransformer(norm='l2', smooth_idf=True, sublinear_tf=False, use_idf=True), 'clf': MultiOutputClassifier(estimator=LinearSVC(C=1.0, class_weight=None, dual=True, fit_intercept=True,\n",
      "     intercept_scaling=1, loss='squared_hinge', max_iter=1000,\n",
      "     multi_class='ovr', penalty='l2', random_state=None, tol=0.0001,\n",
      "     verbose=0),\n",
      "           n_jobs=1)}\n"
     ]
    },
    {
     "name": "stderr",
     "output_type": "stream",
     "text": [
      "/opt/conda/lib/python3.6/site-packages/sklearn/metrics/classification.py:1135: UndefinedMetricWarning: Precision and F-score are ill-defined and being set to 0.0 in labels with no predicted samples.\n",
      "  'precision', 'predicted', average, warn_for)\n"
     ]
    }
   ],
   "source": [
    "from sklearn.metrics import classification_report, accuracy_score\n",
    "print(y_pred.shape)\n",
    "print(y_test.shape)\n",
    "for i in range(y_test.shape[1]):\n",
    "        print('%25s accuracy : %.2f' %(category_names[i], accuracy_score(y_test[:,i], y_pred[:,i])))\n",
    "print(classification_report(y_test, y_pred, target_names=category_names))\n",
    "print(pipeline.named_steps)"
   ]
  },
  {
   "cell_type": "markdown",
   "metadata": {},
   "source": [
    "### 6. Improve your model\n",
    "Use grid search to find better parameters. "
   ]
  },
  {
   "cell_type": "code",
   "execution_count": 32,
   "metadata": {},
   "outputs": [],
   "source": [
    "parameters = {\n",
    "    'clf__estimator__dual': [False],\n",
    "    'clf__estimator__C':  [1,2],\n",
    "    'tfidf__smooth_idf':[True]\n",
    "}\n",
    "\n",
    "# create grid search object\n",
    "cv = GridSearchCV(pipeline, param_grid=parameters, n_jobs=-1, cv=2)"
   ]
  },
  {
   "cell_type": "markdown",
   "metadata": {},
   "source": [
    "### 7. Test your model\n",
    "Show the accuracy, precision, and recall of the tuned model.  \n",
    "\n",
    "Since this project focuses on code quality, process, and  pipelines, there is no minimum performance metric needed to pass. However, make sure to fine tune your models for accuracy, precision and recall to make your project stand out - especially for your portfolio!"
   ]
  },
  {
   "cell_type": "code",
   "execution_count": 33,
   "metadata": {},
   "outputs": [],
   "source": [
    "cv.fit(X_train, y_train)\n",
    "y_pred = cv.predict(X_test)"
   ]
  },
  {
   "cell_type": "code",
   "execution_count": 35,
   "metadata": {},
   "outputs": [
    {
     "name": "stdout",
     "output_type": "stream",
     "text": [
      "{'clf__estimator__C': 1, 'clf__estimator__dual': False, 'tfidf__smooth_idf': True}\n",
      "                        precision    recall  f1-score   support\n",
      "\n",
      "               related       0.64      0.20      0.30        46\n",
      "               request       0.76      0.58      0.66      1328\n",
      "                 offer       0.00      0.00      0.00        37\n",
      "           aid_related       0.72      0.68      0.70      3260\n",
      "          medical_help       0.64      0.30      0.41       627\n",
      "      medical_products       0.70      0.31      0.43       410\n",
      "     search_and_rescue       0.66      0.16      0.26       202\n",
      "              security       0.29      0.04      0.06       137\n",
      "              military       0.58      0.31      0.40       255\n",
      "                 water       0.76      0.62      0.68       509\n",
      "                  food       0.80      0.68      0.74       888\n",
      "               shelter       0.74      0.54      0.62       669\n",
      "              clothing       0.68      0.43      0.53       121\n",
      "                 money       0.63      0.27      0.38       182\n",
      "        missing_people       0.69      0.16      0.26        69\n",
      "              refugees       0.64      0.23      0.34       251\n",
      "                 death       0.72      0.49      0.58       336\n",
      "             other_aid       0.46      0.22      0.30      1024\n",
      "infrastructure_related       0.33      0.09      0.15       508\n",
      "             transport       0.72      0.24      0.36       352\n",
      "             buildings       0.60      0.33      0.42       375\n",
      "           electricity       0.64      0.26      0.37       151\n",
      "                 tools       0.00      0.00      0.00        45\n",
      "             hospitals       0.42      0.05      0.09        98\n",
      "                 shops       0.00      0.00      0.00        34\n",
      "           aid_centers       0.22      0.02      0.04        85\n",
      "  other_infrastructure       0.35      0.07      0.12       341\n",
      "       weather_related       0.81      0.70      0.75      2168\n",
      "                floods       0.87      0.55      0.68       631\n",
      "                 storm       0.73      0.58      0.65       718\n",
      "                  fire       0.75      0.22      0.34        94\n",
      "            earthquake       0.88      0.72      0.79       733\n",
      "                  cold       0.60      0.27      0.38       157\n",
      "         other_weather       0.52      0.14      0.22       423\n",
      "         direct_report       0.65      0.49      0.56      1489\n",
      "\n",
      "           avg / total       0.69      0.49      0.56     18753\n",
      "\n"
     ]
    },
    {
     "name": "stderr",
     "output_type": "stream",
     "text": [
      "/opt/conda/lib/python3.6/site-packages/sklearn/metrics/classification.py:1135: UndefinedMetricWarning: Precision and F-score are ill-defined and being set to 0.0 in labels with no predicted samples.\n",
      "  'precision', 'predicted', average, warn_for)\n"
     ]
    }
   ],
   "source": [
    "print(cv.best_params_)\n",
    "print(classification_report(y_test, y_pred, target_names = category_names))"
   ]
  },
  {
   "cell_type": "markdown",
   "metadata": {},
   "source": [
    "### 8. Try improving your model further. Here are a few ideas:\n",
    "* try other machine learning algorithms\n",
    "* add other features besides the TF-IDF"
   ]
  },
  {
   "cell_type": "code",
   "execution_count": 8,
   "metadata": {},
   "outputs": [
    {
     "name": "stdout",
     "output_type": "stream",
     "text": [
      "                  related accuracy : 0.99\n",
      "                  request accuracy : 0.88\n",
      "                    offer accuracy : 1.00\n",
      "              aid_related accuracy : 0.74\n",
      "             medical_help accuracy : 0.92\n",
      "         medical_products accuracy : 0.95\n",
      "        search_and_rescue accuracy : 0.97\n",
      "                 security accuracy : 0.98\n",
      "                 military accuracy : 0.97\n",
      "                    water accuracy : 0.96\n",
      "                     food accuracy : 0.92\n",
      "                  shelter accuracy : 0.93\n",
      "                 clothing accuracy : 0.98\n",
      "                    money accuracy : 0.98\n",
      "           missing_people accuracy : 0.99\n",
      "                 refugees accuracy : 0.97\n",
      "                    death accuracy : 0.96\n",
      "                other_aid accuracy : 0.87\n",
      "   infrastructure_related accuracy : 0.94\n",
      "                transport accuracy : 0.96\n",
      "                buildings accuracy : 0.95\n",
      "              electricity accuracy : 0.98\n",
      "                    tools accuracy : 0.99\n",
      "                hospitals accuracy : 0.99\n",
      "                    shops accuracy : 1.00\n",
      "              aid_centers accuracy : 0.99\n",
      "     other_infrastructure accuracy : 0.96\n",
      "          weather_related accuracy : 0.86\n",
      "                   floods accuracy : 0.94\n",
      "                    storm accuracy : 0.93\n",
      "                     fire accuracy : 0.99\n",
      "               earthquake accuracy : 0.97\n",
      "                     cold accuracy : 0.98\n",
      "            other_weather accuracy : 0.95\n",
      "            direct_report accuracy : 0.84\n",
      "                        precision    recall  f1-score   support\n",
      "\n",
      "               related       0.70      0.11      0.19        62\n",
      "               request       0.82      0.43      0.56      1368\n",
      "                 offer       0.00      0.00      0.00        38\n",
      "           aid_related       0.74      0.59      0.65      3316\n",
      "          medical_help       0.52      0.10      0.16       608\n",
      "      medical_products       0.71      0.10      0.18       398\n",
      "     search_and_rescue       0.59      0.08      0.14       205\n",
      "              security       0.33      0.01      0.01       144\n",
      "              military       0.61      0.06      0.10       249\n",
      "                 water       0.88      0.33      0.48       490\n",
      "                  food       0.84      0.39      0.53       894\n",
      "               shelter       0.82      0.30      0.44       729\n",
      "              clothing       0.71      0.12      0.20       129\n",
      "                 money       0.75      0.04      0.07       167\n",
      "        missing_people       0.00      0.00      0.00        94\n",
      "              refugees       0.46      0.05      0.08       261\n",
      "                 death       0.69      0.13      0.22       336\n",
      "             other_aid       0.57      0.07      0.13      1069\n",
      "infrastructure_related       0.29      0.01      0.02       490\n",
      "             transport       0.64      0.12      0.20       364\n",
      "             buildings       0.80      0.11      0.20       395\n",
      "           electricity       0.75      0.04      0.07       164\n",
      "                 tools       0.00      0.00      0.00        40\n",
      "             hospitals       0.00      0.00      0.00        78\n",
      "                 shops       0.00      0.00      0.00        33\n",
      "           aid_centers       0.00      0.00      0.00        85\n",
      "  other_infrastructure       0.00      0.00      0.00       334\n",
      "       weather_related       0.84      0.62      0.71      2181\n",
      "                floods       0.85      0.37      0.51       630\n",
      "                 storm       0.80      0.42      0.55       746\n",
      "                  fire       1.00      0.03      0.05        79\n",
      "            earthquake       0.89      0.73      0.80       726\n",
      "                  cold       0.67      0.20      0.31       144\n",
      "         other_weather       0.60      0.07      0.12       419\n",
      "         direct_report       0.74      0.30      0.43      1552\n",
      "\n",
      "           avg / total       0.71      0.35      0.43     19017\n",
      "\n"
     ]
    },
    {
     "name": "stderr",
     "output_type": "stream",
     "text": [
      "/opt/conda/lib/python3.6/site-packages/sklearn/metrics/classification.py:1135: UndefinedMetricWarning: Precision and F-score are ill-defined and being set to 0.0 in labels with no predicted samples.\n",
      "  'precision', 'predicted', average, warn_for)\n"
     ]
    }
   ],
   "source": [
    "# Using RandomForest for classification task\n",
    "pipeline = Pipeline([\n",
    "    ('vect', CountVectorizer(tokenizer=tokenize)),\n",
    "    ('tfidf', TfidfTransformer()),\n",
    "    ('clf', MultiOutputClassifier(RandomForestClassifier()))\n",
    "])\n",
    "\n",
    "X_train,X_test,y_train,y_test=train_test_split(X,Y,test_size=0.3)\n",
    "pipeline.fit(X_train,y_train)\n",
    "y_pred=pipeline.predict(X_test)\n",
    "for i in range(y_test.shape[1]):\n",
    "        print('%25s accuracy : %.2f' %(category_names[i], accuracy_score(y_test[:,i], y_pred[:,i])))\n",
    "print(classification_report(y_test, y_pred, target_names=category_names))"
   ]
  },
  {
   "cell_type": "code",
   "execution_count": 9,
   "metadata": {},
   "outputs": [
    {
     "name": "stdout",
     "output_type": "stream",
     "text": [
      "                  related accuracy : 0.99\n",
      "                  request accuracy : 0.90\n",
      "                    offer accuracy : 1.00\n",
      "              aid_related accuracy : 0.78\n",
      "             medical_help accuracy : 0.92\n",
      "         medical_products accuracy : 0.96\n",
      "        search_and_rescue accuracy : 0.97\n",
      "                 security accuracy : 0.98\n",
      "                 military accuracy : 0.97\n",
      "                    water accuracy : 0.96\n",
      "                     food accuracy : 0.94\n",
      "                  shelter accuracy : 0.94\n",
      "                 clothing accuracy : 0.99\n",
      "                    money accuracy : 0.98\n",
      "           missing_people accuracy : 0.99\n",
      "                 refugees accuracy : 0.97\n",
      "                    death accuracy : 0.96\n",
      "                other_aid accuracy : 0.87\n",
      "   infrastructure_related accuracy : 0.94\n",
      "                transport accuracy : 0.96\n",
      "                buildings accuracy : 0.95\n",
      "              electricity accuracy : 0.98\n",
      "                    tools accuracy : 0.99\n",
      "                hospitals accuracy : 0.99\n",
      "                    shops accuracy : 0.99\n",
      "              aid_centers accuracy : 0.99\n",
      "     other_infrastructure accuracy : 0.96\n",
      "          weather_related accuracy : 0.87\n",
      "                   floods accuracy : 0.94\n",
      "                    storm accuracy : 0.93\n",
      "                     fire accuracy : 0.99\n",
      "               earthquake accuracy : 0.96\n",
      "                     cold accuracy : 0.98\n",
      "            other_weather accuracy : 0.95\n",
      "            direct_report accuracy : 0.86\n",
      "                        precision    recall  f1-score   support\n",
      "\n",
      "               related       0.00      0.00      0.00        55\n",
      "               request       0.82      0.53      0.64      1344\n",
      "                 offer       0.00      0.00      0.00        30\n",
      "           aid_related       0.77      0.65      0.71      3270\n",
      "          medical_help       0.65      0.14      0.23       652\n",
      "      medical_products       0.74      0.16      0.27       389\n",
      "     search_and_rescue       1.00      0.04      0.08       211\n",
      "              security       0.00      0.00      0.00       151\n",
      "              military       0.70      0.09      0.17       277\n",
      "                 water       0.78      0.45      0.57       506\n",
      "                  food       0.85      0.57      0.68       859\n",
      "               shelter       0.84      0.41      0.55       702\n",
      "              clothing       0.75      0.23      0.35       117\n",
      "                 money       0.71      0.05      0.10       192\n",
      "        missing_people       0.00      0.00      0.00        84\n",
      "              refugees       0.89      0.06      0.12       259\n",
      "                 death       0.82      0.21      0.33       361\n",
      "             other_aid       0.56      0.10      0.17      1068\n",
      "infrastructure_related       0.50      0.02      0.03       511\n",
      "             transport       0.82      0.10      0.19       381\n",
      "             buildings       0.69      0.19      0.29       412\n",
      "           electricity       0.69      0.11      0.19       163\n",
      "                 tools       0.00      0.00      0.00        46\n",
      "             hospitals       0.00      0.00      0.00        83\n",
      "                 shops       0.00      0.00      0.00        47\n",
      "           aid_centers       0.00      0.00      0.00        80\n",
      "  other_infrastructure       0.60      0.02      0.03       335\n",
      "       weather_related       0.88      0.64      0.74      2271\n",
      "                floods       0.91      0.38      0.54       684\n",
      "                 storm       0.79      0.42      0.55       768\n",
      "                  fire       1.00      0.03      0.06        94\n",
      "            earthquake       0.92      0.65      0.76       750\n",
      "                  cold       0.73      0.10      0.17       162\n",
      "         other_weather       0.58      0.05      0.09       373\n",
      "         direct_report       0.75      0.41      0.54      1533\n",
      "\n",
      "           avg / total       0.75      0.40      0.49     19220\n",
      "\n"
     ]
    },
    {
     "name": "stderr",
     "output_type": "stream",
     "text": [
      "/opt/conda/lib/python3.6/site-packages/sklearn/metrics/classification.py:1135: UndefinedMetricWarning: Precision and F-score are ill-defined and being set to 0.0 in labels with no predicted samples.\n",
      "  'precision', 'predicted', average, warn_for)\n"
     ]
    }
   ],
   "source": [
    "# Using Logistic Regression for classification task\n",
    "pipeline = Pipeline([\n",
    "    ('vect', CountVectorizer(tokenizer=tokenize)),\n",
    "    ('tfidf', TfidfTransformer()),\n",
    "    ('clf', MultiOutputClassifier(LogisticRegression()))\n",
    "])\n",
    "\n",
    "X_train,X_test,y_train,y_test=train_test_split(X,Y,test_size=0.3)\n",
    "pipeline.fit(X_train,y_train)\n",
    "y_pred=pipeline.predict(X_test)\n",
    "for i in range(y_test.shape[1]):\n",
    "        print('%25s accuracy : %.2f' %(category_names[i], accuracy_score(y_test[:,i], y_pred[:,i])))\n",
    "print(classification_report(y_test, y_pred, target_names=category_names))"
   ]
  },
  {
   "cell_type": "markdown",
   "metadata": {},
   "source": [
    "### 9. Export your model as a pickle file"
   ]
  },
  {
   "cell_type": "code",
   "execution_count": null,
   "metadata": {},
   "outputs": [],
   "source": []
  },
  {
   "cell_type": "markdown",
   "metadata": {},
   "source": [
    "### 10. Use this notebook to complete `train.py`\n",
    "Use the template file attached in the Resources folder to write a script that runs the steps above to create a database and export a model based on a new dataset specified by the user."
   ]
  },
  {
   "cell_type": "code",
   "execution_count": null,
   "metadata": {},
   "outputs": [],
   "source": []
  }
 ],
 "metadata": {
  "kernelspec": {
   "display_name": "Python 3",
   "language": "python",
   "name": "python3"
  },
  "language_info": {
   "codemirror_mode": {
    "name": "ipython",
    "version": 3
   },
   "file_extension": ".py",
   "mimetype": "text/x-python",
   "name": "python",
   "nbconvert_exporter": "python",
   "pygments_lexer": "ipython3",
   "version": "3.6.3"
  }
 },
 "nbformat": 4,
 "nbformat_minor": 2
}
